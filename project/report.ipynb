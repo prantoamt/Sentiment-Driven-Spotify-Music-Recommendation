{
 "cells": [
  {
   "cell_type": "markdown",
   "metadata": {},
   "source": [
    "## Spotify Music Recommendation Based on the Sentiment of Social Media Post"
   ]
  },
  {
   "cell_type": "markdown",
   "metadata": {},
   "source": [
    "## Table of content\n",
    "\n",
    "1. Introduction. <br>\n",
    "    - 1.1. Project goals. <br>\n",
    "    - 1.2. Why logistic regression? <br>\n",
    "2. Data <br>\n",
    "    - 2.1. Data acquisition and description. <br>\n",
    "        - 2.1.1. Social media post data. <br>\n",
    "        - 2.1.2. Music data. <br>\n",
    "        - 2.1.3. User's playlist data. <br>\n",
    "    - 2.2. Data analysis. <br>\n",
    "        - 2.2.1. Social media post data. <br>\n",
    "        - 2.2.2. Music data. <br>\n",
    "        - 2.2.3. User's playlist data. <br>\n",
    "3. Methodology. <br>\n",
    "    - 3.1. Extract Transform Load (ETL) pipeline. <br>\n",
    "        - 3.1.1. The python package for ETL pipeline. <br>\n",
    "    - 3.2. Data pre-processing. <br>\n",
    "    - 3.3. Logistic regression model implementation. <br>\n",
    "4. Results. <br>\n",
    "5. Conclusion. <br>"
   ]
  },
  {
   "cell_type": "markdown",
   "metadata": {},
   "source": [
    "## 1. Introduction\n",
    "This project aims to recommend music based on the sentiment of social media post. Within the scope of this project, I have trained a *Logistic Regression* model on tweeter post and evaluated the performace of the model to detect sentiment from social media post. The model showed 79% test accuracy. Later on, I have used the trained model to detect the sentiment of a user, and then recommend songs based on the sentiment and the user's personal playlist.\n",
    "\n",
    "In an era where music and social media intertwine, this endeavor seeks to revolutionize personalized music discovery. By analyzing the sentiment expressed in users' social media posts, I aim to craft a dynamic recommendation system for Spotify, tailoring playlists that resonate with the emotional context of individuals. Through the fusion of advanced sentiment analysis and machine learning, this project endeavors to enhance the user experience by delivering music that not only aligns with personal preferences but also harmonizes with the sentiments conveyed in their digital expressions."
   ]
  },
  {
   "cell_type": "markdown",
   "metadata": {},
   "source": [
    "### 1.1 Project goal"
   ]
  },
  {
   "cell_type": "markdown",
   "metadata": {},
   "source": [
    "### 1.2 Why logistic regression?\n",
    "\n",
    "Explainability or interpretability in machine learning or deep learning models are very essential for building trust, ensuring ethical use, complying with regulations, improving model performance, and fostering collaboration between humans and AI systems. As machine learning applications continue to impact various aspects of society, the need for transparency and interpretability becomes increasingly critical. Over the last couple of years, the term *Explainable AI* has become one of the most concering topic for researchers[2]. Many researches have been conducted to prove why explaining the *black-box* models are important [2][3][4].\n",
    "\n",
    "<figure>\n",
    "    <img src=\"images/map-of-explainability-approaches.jpeg\" style=\"width:80%\">\n",
    "    <figcaption align=\"center\"> \n",
    "        Figure 1: Map of explainability approaches.\n",
    "    </figcaption>\n",
    "</figure>\n",
    "\n",
    "The figure 1 avobe shows the explainablility approaches for different kind of models. Logistic Regression models are very simple, transparent and easy to explain. Though explaining the trained model does not fit in the scope of the project, but due to the simplicity and transparency of Logistic Regression, I started with such algorithm.\n",
    "\n",
    "The rest of the report is organized as follows: In section 2, I have written the description, and analysis of the datasets. This is followed by explaintaion of the methodology adopted in section 3. Then Section 4 contains the results of this project and finally, section 5 holds the discussions, remarks and future works of this project."
   ]
  },
  {
   "cell_type": "markdown",
   "metadata": {},
   "source": [
    "## 2. Data\n",
    "\n",
    "For this project work, I required three dataset. One dataset to train a Logistic Regression model that detects sentiments from social media posts, one dataset that contains music information and one dataset that contains a user's playlist. The user's playlist dataset helps us to understand the user's taste in music. The section 2.1 explains the aquisition and description of these dataset and the section 2.2 shows us some analysis on those."
   ]
  },
  {
   "cell_type": "markdown",
   "metadata": {},
   "source": [
    "### 2.1. Data acquisition and description\n",
    "\n",
    "As mentioned above, I have collected three dataset for this project work. The section 2.1.1 explains the social media post, 2.1.2 explains the music data, and 2.1.3 explains user's playlist data aquisitions respectively."
   ]
  },
  {
   "cell_type": "markdown",
   "metadata": {},
   "source": [
    "### *2.1.1. Social media post data (Sentiment140)*\n",
    "The *Sentiment140* dataset is a very popular open source dataset that contains 1.6 millions twitter posts by several users. The dataset was originally collected by Alec Go and colleagues[[1]](#References). I have collected the dataset from kaggle. A short description of this dataset is provided below:\n",
    "\n",
    "* Metadata URL: https://www.kaggle.com/datasets/kazanova/sentiment140\n",
    "* Data URL: https://www.kaggle.com/datasets/kazanova/sentiment140\n",
    "* Data Type: ZIP\n",
    "\n",
    "|       Column number                 |                    Column Name        |                                  Description        |\n",
    "|-------------------------------------|---------------------------------------|-----------------------------------------------------|\n",
    "|             0                       |                    target             |      Polarity of the tweet (0 = negative, 4 = positive). |\n",
    "|             1                       |                    id                 |      The id of the tweet.                            |\n",
    "|             2                       |                    date               |      The date of the tweet.                          |\n",
    "|             3                       |                    flag               |      The query. If there is no query, then this value is NO_QUERY. |\n",
    "|             4                       |                    user               |      The user that tweeted                           |\n",
    "|             5                       |                    text               |      The text of the tweet                           |"
   ]
  },
  {
   "cell_type": "markdown",
   "metadata": {},
   "source": [
    "### *2.1.2. Music dataset*\n",
    "This is an open source dataset that contains a comprehensive list of the most famous songs as listed on Spotify. The dataset offers a wealth of features beyond what is typically available in similar datasets. It provides insights into each song's attributes, popularity, and presence on various music platforms. A short description of this dataset is provided below:\n",
    "\n",
    "* Metadata URL: https://www.kaggle.com/datasets/nelgiriyewithana/top-spotify-songs-2023\n",
    "* Data URL: https://www.kaggle.com/datasets/nelgiriyewithana/top-spotify-songs-2023\n",
    "* Data Type: ZIP\n",
    "\n",
    "|       Column number                 |                    Column Name        |                                  Description        |\n",
    "|-------------------------------------|---------------------------------------|-----------------------------------------------------|\n",
    "|             0                       |        track_name                     |      Name of the song.                              |   \n",
    "|             1                       |        artist(s)_name                 |      Name of the artist(s) of the song.             |\n",
    "|             2                       |        artist_count                   |      Number of artists contributing to the song.    |\n",
    "|             3                       |        released_year                  |      Year when the song was released.               |\n",
    "|             4                       |        released_month                 |      Month when the song was released.              |\n",
    "|             5                       |        released_day                   |      Day of the month when the song was released.   |\n",
    "|             6                       |        in_spotify_playlists           |      Number of Spotify playlists the song is included in. |\n",
    "|             7                       |        in_spotify_charts              |      Presence and rank of the song on Spotify charts. |\n",
    "|             8                       |        streams                        |      Total number of streams on Spotify.             |\n",
    "|             9                       |        in_apple_playlists             |      Number of Apple Music playlists the song is included in. |\n",
    "|             10                      |        in_apple_charts                |      Presence and rank of the song on Apple Music charts. |\n",
    "|             11                      |        in_deezer_playlists            |      Number of Deezer playlists the song is included in. |\n",
    "|             12                      |        in_deezer_charts               |      Presence and rank of the song on Deezer charts. |\n",
    "|             13                      |        in_shazam_charts               |      Presence and rank of the song on Shazam charts. |\n",
    "|             14                      |        bpm                            |      Beats per minute, a measure of song tempo.      |\n",
    "|             15                      |        key                            |      Key of the song.                                |\n",
    "|             16                      |        mode                           |      Mode of the song (major or minor).              |\n",
    "|             17                      |        danceability_%                 |      Percentage indicating how suitable the song is for dancing. |\n",
    "|             18                      |        valence_%                      |      Positivity of the song's musical content.       |\n",
    "|             19                      |        energy_%                       |      Perceived energy level of the song.             |\n",
    "|             20                      |        acousticness_%                 |      Amount of acoustic sound in the song.           |\n",
    "|             21                      |        instrumentalness_%             |      Amount of instrumental content in the song.     |\n",
    "|             22                      |        liveness_%                     |      Presence of live performance elements.          |\n",
    "|             23                      |        speechiness_%                  |      Amount of spoken words in the song.             |"
   ]
  },
  {
   "cell_type": "markdown",
   "metadata": {},
   "source": [
    "### *2.1.3. User's playlist data*\n",
    "Finding a user's playlist that matches the same attributes as [section 2.1.2.](#2.1.2.-music-dataset) was a challenge. Unfortunately, I could not find a suitable user's playlist for this project. But a user's playlist is a subset of all available songs. If all avaialble songs are the dataset in section [2.1.2](#221-music-dataset), then user's playlist is a subset of this dataset. I have used 10% of random data from [section 2.1.2.](#2.1.2.-music-dataset) as user's playlist in order to understand user's preference on music. The playlist has been uploaded to a google drive.\n",
    "\n",
    "* Metadata URL: https://www.kaggle.com/datasets/nelgiriyewithana/top-spotify-songs-2023\n",
    "* Data URL: https://www.kaggle.com/datasets/nelgiriyewithana/top-spotify-songs-2023\n",
    "* Data Type: CSV"
   ]
  },
  {
   "cell_type": "markdown",
   "metadata": {},
   "source": [
    "### 2.2 Data analysis\n",
    "\n",
    "Now that all the dataset have been found, we will analyse the dataset individually to understand the data. The section 2.2.1 analyses the social media post, 2.2.2 analyses the music data, and 2.2.3 analyses user's playlist data respectively."
   ]
  },
  {
   "cell_type": "markdown",
   "metadata": {},
   "source": [
    "### *2.2.1 Social media post data (Sentiment140)*\n",
    "\n",
    "The figure 2 shows the first and last five rows of Sentiment140 dataset respectively. \n",
    "\n",
    "<figure>\n",
    "    <img src=\"images/tweets-uncleaned.png\" style=\"width: 100%\"/>\n",
    "    <figcaption align=\"center\"> Figure 2: First and last five rows of Sentiment140. </figcaption>\n",
    "</figure>\n",
    "\n",
    "I am interested in the column *\"target\"* and *\"text\"*. The \"target\" column represents the sentiment of the tweet and the \"text\" column represents the tweet. The tweet itself contains \"@user\", \"links\" as well as some special characters. These has been cleaned during data preprocessing step.\n",
    "\n",
    "The figure 3 shows us the target destribution of Sentiment140. It is evident from the picture that the dataset is equally destributed over two sentiments. Eight million *positive* sentiments and 8 million *negative* sentiments.\n",
    "\n",
    "<figure>\n",
    "    <img src=\"images/tweets-target-destribution.png\" style=\"width:60%\">\n",
    "    <figcaption align=\"center\"> \n",
    "        Figure 3: Target destribution of Sentiment140. Negative sentiments are labeled as 0 and positives as 4.\n",
    "    </figcaption>\n",
    "</figure>\n",
    "\n",
    "Let us also have a look at some random tweets and their sentiments to understand the validity of the data. Table 1 displays such examples.\n",
    "\n",
    "<table>\n",
    "    <tr>\n",
    "        <th> Tweet </th><th> Sentiment </th>\n",
    "    </tr>\n",
    "    <tr>\n",
    "        <td> im meeting up with one of my besties tonight! Cant wait!!  - GIRL TALK!! </td> <td> positive </td>\n",
    "    </tr>\n",
    "    <tr>\n",
    "        <td> I LOVE @Health4UandPets u guys r the best!! </td> <td> positive </td>\n",
    "    </tr>\n",
    "    <tr>\n",
    "        <td> @DaRealSunisaKim Thanks for the Twitter add, Sunisa! I got to meet you once at a HIN show here in the DC area and you were a sweetheart. </td> <td> positive </td>\n",
    "    </tr>\n",
    "    <tr>\n",
    "        <td> is upset that he can't update his Facebook by texting it... and might cry as a result  School today also. Blah! </td> <td> negative </td>\n",
    "    </tr>\n",
    "    <tr>\n",
    "        <td> @Kenichan I dived many times for the ball. Managed to save 50%  The rest go out of bounds </td> <td> negative </td>\n",
    "    </tr>\n",
    "    <tr>\n",
    "        <td> my whole body feels itchy and like its on fire </td> <td> negative </td>\n",
    "    </tr>\n",
    "    <caption>Table 1: Random tweets from Sentiment140 dataset.</caption>\n",
    "</table>\n",
    "\n",
    "The tweets of this dataset seems pretty well labeled. After observing the target destribution and the labels, I am satisfied to train a model with this dataset. Further clean-up is performed in data preprocessing step."
   ]
  },
  {
   "cell_type": "markdown",
   "metadata": {},
   "source": [
    "### *2.2.1 Music dataset*\n",
    "\n",
    "The music dataset is labeled with several attributes by Spotifiy. The *\"valence\"* attribute represents the positivity of the song. I have used this attribute to determine the songs sentiment. The table 2 holds few examples of this particular dataset and figure 4 visualized thehistogram of the features.\n",
    "\n",
    "<table>\n",
    "    <tr>\n",
    "        <th> track name </th>\n",
    "        <th> artist(s) name </th>\n",
    "        <th> artist count </th>\n",
    "        <th> released year </th>\n",
    "        <th> released month </th>\n",
    "        <th> released day </th>\n",
    "        <th> in spotify playlists </th>\n",
    "        <th> in spotify charts </th>\n",
    "        <th> streams </th>\n",
    "        <th> in apple playlists </th>\n",
    "        <th> in apple charts </th>\n",
    "        <th> in deezer playlists </th>\n",
    "        <th> in deezer charts </th>\n",
    "        <th> in shazam charts </th>\n",
    "        <th> bpm </th>\n",
    "        <th> key </th>\n",
    "        <th> mode </th>\n",
    "        <th> danceability_% </th>\n",
    "        <th> valence_% </th>\n",
    "        <th> energy_% </th>\n",
    "        <th> acousticness_% </th>\n",
    "        <th> instrumentalness_% </th>\n",
    "        <th> liveness_% </th>\n",
    "        <th> speechiness_% </th>\n",
    "    </tr>\n",
    "    <tr>\n",
    "        <td> Seven (feat. Latto) (Explicit Ver.) </td> \n",
    "        <td> Latto, Jung Kook </td> \n",
    "        <td> 2 </td> \n",
    "        <td> 2023 </td> \n",
    "        <td> 7 </td> \n",
    "        <td> 14 </td> \n",
    "        <td> 553 </td> \n",
    "        <td> 147 </td> \n",
    "        <td> 141381703 </td> \n",
    "        <td> 43 </td> \n",
    "        <td> 263 </td> \n",
    "        <td> 45 </td> \n",
    "        <td> 10 </td> \n",
    "        <td> 826 </td> \n",
    "        <td> 125 </td> \n",
    "        <td> B </td> \n",
    "        <td> Major </td> \n",
    "        <td> 80 </td> \n",
    "        <td> 89 </td> \n",
    "        <td> 83 </td> \n",
    "        <td> 31 </td> \n",
    "        <td> 0 </td> \n",
    "        <td> 8 </td> \n",
    "        <td> 4 </td>\n",
    "    </tr>\n",
    "    <tr>\n",
    "        <td> LALA </td> \n",
    "        <td> Myke Towers </td> \n",
    "        <td> 1 </td> \n",
    "        <td> 2023 </td> \n",
    "        <td> 3 </td> \n",
    "        <td> 23 </td> \n",
    "        <td> 1474 </td> \n",
    "        <td> 48 </td> \n",
    "        <td> 133716286 </td> \n",
    "        <td> 48 </td> \n",
    "        <td> 126 </td> \n",
    "        <td> 58 </td> \n",
    "        <td> 14 </td> \n",
    "        <td> 382 </td> \n",
    "        <td> 92 </td> \n",
    "        <td> C# </td> \n",
    "        <td> Major </td> \n",
    "        <td> 71 </td> \n",
    "        <td> 61 </td> \n",
    "        <td> 74 </td> \n",
    "        <td> 7 </td> \n",
    "        <td> 0 </td> \n",
    "        <td> 10 </td> \n",
    "        <td> 4 </td>\n",
    "    </tr>\n",
    "    <tr>\n",
    "        <td> vampire </td> \n",
    "        <td> Olivia Rodrigo </td> \n",
    "        <td> 1 </td> \n",
    "        <td> 2023 </td> \n",
    "        <td> 6 </td> \n",
    "        <td> 30 </td> \n",
    "        <td> 1397 </td> \n",
    "        <td> 113 </td> \n",
    "        <td> 140003974 </td> \n",
    "        <td> 94 </td> \n",
    "        <td> 207 </td> \n",
    "        <td> 91 </td> \n",
    "        <td> 14 </td> \n",
    "        <td> 949 </td> \n",
    "        <td> 138 </td> \n",
    "        <td> F </td> \n",
    "        <td> Major </td> \n",
    "        <td> 51 </td> \n",
    "        <td> 32 </td> \n",
    "        <td> 53 </td> \n",
    "        <td> 17 </td> \n",
    "        <td> 0 </td> \n",
    "        <td> 31 </td> \n",
    "        <td> 6 </td>\n",
    "    </tr>\n",
    "    <caption>Table 2: Few examples of spotify songs dataset.</caption>\n",
    "</table>\n",
    "\n",
    "<figure>\n",
    "<img src=\"images/all-songs-feature-destribution.png\" style=\"width:100%\">\n",
    "<figcaption align=\"center\"> Figure 4: Histogram of song's attributes. </figcaption>\n",
    "</figure>\n"
   ]
  },
  {
   "cell_type": "markdown",
   "metadata": {},
   "source": [
    "### *2.2.3. User's playlist data*\n",
    "\n",
    "The user's playlist has been created from the random 10% of Spotify songs. The playlist contains 82 songs. The figure 5 visualizes the histogram of song's attributes from user's playlist.\n",
    "\n",
    "\n",
    "<figure>\n",
    "<img src=\"images/user-playlist-feature-destribution.png\" style=\"width:100%\">\n",
    "<figcaption align=\"center\"> Figure 5: Histogram of song's attributes from user's playlist. </figcaption>\n",
    "</figure>\n"
   ]
  },
  {
   "cell_type": "markdown",
   "metadata": {},
   "source": [
    "## 3. Methodology\n",
    "\n",
    "<figure>\n",
    "<img src=\"images/methodology.png\" style=\"width:100%\">\n",
    "<figcaption align=\"center\"> Figure 6: Methodology followed in this project work. </figcaption>\n",
    "</figure>\n",
    "\n",
    "The methodology, as outlined in Figure 6, has been followed while conducting this project work. The steps are as follows:\n",
    "\n",
    "<pre>\n",
    "<code>\n",
    "1. Run three Extract Transform Load (ETL) pipelines that extracts the three dataset mentioned in section 2 from the sources, transforms and loads those in a SQLite Database.\n",
    "2. Fetch the tweets data from SQLite DB and split it into 80% train and 20% test data.\n",
    "3. Train the Logistic regression model with the training set.\n",
    "4. Test the trained model with test dataset and evaluate the model's performance.\n",
    "5. Take an input text from the user.\n",
    "6. Detect the sentiment of the user from the text.\n",
    "7. Fetch user's playlist songs from the SQLite DB that matches the detected sentiment in step-5.\n",
    "8. Calculate average bpm, danceability, energy, acousticness, instrumentalness, liveness, and speechiness of the songs that have been fetched in step-7.\n",
    "9. Fetch first ten songs from all songs that matches the sentiment of step-6 and the values of bpm, danceability, energy, acousticness, instrumentalness, liveness, and speechiness are greater than the average values calculated in step-8. Arrange the songs by valence's descending order.\n",
    "10. Return the songs of step-9 as output.\n",
    "</code>\n",
    "</pre>\n",
    "\n",
    "The ETL-Pipeline used in this project work has been explained in section 3.1. In section 3.1.1, I have presented a python package dedicated to run ETL-pipelines followed by the data pre-processing in section 3.2. A short description of Logistic regression algorithm is described in section 3.3."
   ]
  },
  {
   "cell_type": "markdown",
   "metadata": {},
   "source": [
    "### 3.1. Extract Transform Load (ETL) pipeline\n",
    "\n",
    "<figure>\n",
    "<img src=\"images/etl-pipeline.png\" style=\"width:100%\">\n",
    "<figcaption align=\"center\"> Figure 6: Extract Transform Load (ETL) Pipeline used in this project work. </figcaption>\n",
    "</figure>"
   ]
  },
  {
   "cell_type": "markdown",
   "metadata": {},
   "source": [
    "#### *3.1.1 The python package for ETL pipeline*\n",
    "\n",
    "which has been developed during [Advanced Data Engineering](https://oss.cs.fau.de/teaching/specific/made/) course by me and [Arni Islam](https://github.com/islam15-8789)"
   ]
  },
  {
   "cell_type": "markdown",
   "metadata": {},
   "source": [
    "### 3.2. Data pre-processing"
   ]
  },
  {
   "cell_type": "markdown",
   "metadata": {},
   "source": [
    "### 3.3. Logistic regression model implementation"
   ]
  },
  {
   "cell_type": "markdown",
   "metadata": {},
   "source": [
    "## 4. Results"
   ]
  },
  {
   "cell_type": "markdown",
   "metadata": {},
   "source": [
    "## 5. Conclusion"
   ]
  },
  {
   "cell_type": "markdown",
   "metadata": {},
   "source": [
    "## References\n",
    "1. Go, A., Bhayani, R. and Huang, L., 2009. Twitter sentiment classification using distant supervision. CS224N Project Report, Stanford, 1(2009), p.12\n",
    "2. Linardatos P., Papastefanopoulos V., Kotsiantis S., Explainable AI: A Review of Machine Learning Interpretability Methods. Entropy 2021, 23, 18. https://doi.org/10.3390/e23010018\n",
    "3. Xu, F., Uszkoreit, H., Du, Y., Fan, W., Zhao, D., Zhu, J. (2019). Explainable AI: A Brief Survey on History, Research Areas, Approaches and Challenges. In: Tang, J., Kan, MY., Zhao, D., Li, S., Zan, H. (eds) Natural Language Processing and Chinese Computing. NLPCC 2019. Lecture Notes in Computer Science(), vol 11839. Springer, Cham. https://doi.org/10.1007/978-3-030-32236-6_51\n",
    "4. Holzinger, A., Saranti, A., Molnar, C., Biecek, P., Samek, W. (2022). Explainable AI Methods - A Brief Overview. In: Holzinger, A., Goebel, R., Fong, R., Moon, T.,  Müller, KR., Samek, W. (eds) xxAI - Beyond Explainable AI. xxAI 2020. Lecture Notes in Computer Science(), vol 13200. Springer, Cham. https://doi.org/10.1007/978-3-031-04083-2_2\n",
    "\n"
   ]
  },
  {
   "cell_type": "markdown",
   "metadata": {},
   "source": []
  }
 ],
 "metadata": {
  "kernelspec": {
   "display_name": "venv",
   "language": "python",
   "name": "python3"
  },
  "language_info": {
   "codemirror_mode": {
    "name": "ipython",
    "version": 3
   },
   "file_extension": ".py",
   "mimetype": "text/x-python",
   "name": "python",
   "nbconvert_exporter": "python",
   "pygments_lexer": "ipython3",
   "version": "3.11.4"
  }
 },
 "nbformat": 4,
 "nbformat_minor": 2
}
