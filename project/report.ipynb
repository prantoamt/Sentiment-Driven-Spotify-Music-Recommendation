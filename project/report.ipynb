{
 "cells": [
  {
   "cell_type": "markdown",
   "metadata": {},
   "source": [
    "## Spotify Music Recommendation Based on the Sentiment of Social Media Post"
   ]
  },
  {
   "cell_type": "markdown",
   "metadata": {},
   "source": [
    "## Table of content\n",
    "\n",
    "1. [Introduction](#1.-introduction)\n",
    "2. [Data](#2.-data)\n",
    "    - [Data Acquisition and Description](#2.1-data-acquisition-and-description)\n",
    "    - [Data Analysis](#2.2-data-analysis)\n",
    "3. [ETL Pipeline](#3.-etl-pipeline)\n",
    "4. [Methodology](#4.-methodology)\n",
    "5. [Results](#5.-results)\n",
    "6. [Conclusion](#6.-conclusion)"
   ]
  },
  {
   "cell_type": "markdown",
   "metadata": {},
   "source": [
    "## 1. Introduction\n",
    "This project aims to recommend music based on the sentiment of social media post. Within the scope of this project, I have trained a *Logistic Regression* model on tweeter post and evaluated the performace of the model to detect sentiment from social media post. The model showed 79% test accuracy. Later on, I have used the trained model to detect the sentiment of a user, and then recommend songs based on the sentiment and the user's personal playlist.\n",
    "\n",
    "In an era where music and social media intertwine, this endeavor seeks to revolutionize personalized music discovery. By analyzing the sentiment expressed in users' social media posts, I aim to craft a dynamic recommendation system for Spotify, tailoring playlists that resonate with the emotional context of individuals. Through the fusion of advanced sentiment analysis and machine learning, this project endeavors to enhance the user experience by delivering music that not only aligns with personal preferences but also harmonizes with the sentiments conveyed in their digital expressions.\n",
    "\n",
    "The rest of the report is organized as follows: In [section 2](#2.-data), I have written the description, and analysis of the datasets. This is followed by explaintaion of ETL Pipeline architecture in [section 3](#etl-pipeline). Then the methodology adopted in this article described in [section 4](#methodology). [Section 5](#results) contains the results of the project as well as the discussions followed by the concluding remark in [section 6](#conclusion)."
   ]
  },
  {
   "cell_type": "markdown",
   "metadata": {},
   "source": [
    "## 2. Data"
   ]
  },
  {
   "cell_type": "markdown",
   "metadata": {},
   "source": [
    "### 2.1. Data Acquisition and Description"
   ]
  },
  {
   "cell_type": "markdown",
   "metadata": {},
   "source": [
    "### *2.1.1. Social Media Post Data (Sentiment140)*\n",
    "The *Sentiment140* dataset is a very popular open source dataset that contains 1.6 millions twitter posts by several users. The dataset was originally collected by Alec Go and colleagues[[1]](#references). I have collected the dataset from kaggle. *This dataset has been used for the model training purposes.* A short description of this dataset is provided below:\n",
    "\n",
    "* Metadata URL: https://www.kaggle.com/datasets/kazanova/sentiment140\n",
    "* Data URL: https://www.kaggle.com/datasets/kazanova/sentiment140\n",
    "* Data Type: ZIP\n",
    "\n",
    "|       Column number                 |                    Column Name        |                                  Description        |\n",
    "|-------------------------------------|---------------------------------------|-----------------------------------------------------|\n",
    "|             0                       |                    target             |      Polarity of the tweet (0 = negative, 4 = positive). |\n",
    "|             1                       |                    id                 |      The id of the tweet.                            |\n",
    "|             2                       |                    date               |      The date of the tweet.                          |\n",
    "|             3                       |                    flag               |      The query. If there is no query, then this value is NO_QUERY. |\n",
    "|             4                       |                    user               |      The user that tweeted                           |\n",
    "|             5                       |                    text               |      The text of the tweet                           |"
   ]
  },
  {
   "cell_type": "markdown",
   "metadata": {},
   "source": [
    "### *2.1.2. Music Dataset*\n",
    "This is an open dataset that contains a comprehensive list of the most famous songs of 2023 as listed on Spotify. The dataset offers a wealth of features beyond what is typically available in similar datasets. It provides insights into each song's attributes, popularity, and presence on various music platforms. *This dataset has been used for song recommendation.* A short description of this dataset is provided below:\n",
    "\n",
    "* Metadata URL: https://www.kaggle.com/datasets/nelgiriyewithana/top-spotify-songs-2023\n",
    "* Data URL: https://www.kaggle.com/datasets/nelgiriyewithana/top-spotify-songs-2023\n",
    "* Data Type: ZIP\n",
    "\n",
    "|       Column number                 |                    Column Name        |                                  Description        |\n",
    "|-------------------------------------|---------------------------------------|-----------------------------------------------------|\n",
    "|             0                       |        track_name                     |      Name of the song.                              |   \n",
    "|             1                       |        artist(s)_name                 |      Name of the artist(s) of the song.             |\n",
    "|             2                       |        artist_count                   |      Number of artists contributing to the song.    |\n",
    "|             3                       |        released_year                  |      Year when the song was released.               |\n",
    "|             4                       |        released_month                 |      Month when the song was released.              |\n",
    "|             5                       |        released_day                   |      Day of the month when the song was released.   |\n",
    "|             6                       |        in_spotify_playlists           |      Number of Spotify playlists the song is included in. |\n",
    "|             7                       |        in_spotify_charts              |      Presence and rank of the song on Spotify charts. |\n",
    "|             8                       |        streams                        |      Total number of streams on Spotify.             |\n",
    "|             9                       |        in_apple_playlists             |      Number of Apple Music playlists the song is included in. |\n",
    "|             10                      |        in_apple_charts                |      Presence and rank of the song on Apple Music charts. |\n",
    "|             11                      |        in_deezer_playlists            |      Number of Deezer playlists the song is included in. |\n",
    "|             12                      |        in_deezer_charts               |      Presence and rank of the song on Deezer charts. |\n",
    "|             13                      |        in_shazam_charts               |      Presence and rank of the song on Shazam charts. |\n",
    "|             14                      |        bpm                            |      Beats per minute, a measure of song tempo.      |\n",
    "|             15                      |        key                            |      Key of the song.                                |\n",
    "|             16                      |        mode                           |      Mode of the song (major or minor).              |\n",
    "|             17                      |        danceability_%                 |      Percentage indicating how suitable the song is for dancing. |\n",
    "|             18                      |        valence_%                      |      Positivity of the song's musical content.       |\n",
    "|             19                      |        energy_%                       |      Perceived energy level of the song.             |\n",
    "|             20                      |        acousticness_%                 |      Amount of acoustic sound in the song.           |\n",
    "|             21                      |        instrumentalness_%             |      Amount of instrumental content in the song.     |\n",
    "|             22                      |        liveness_%                     |      Presence of live performance elements.          |\n",
    "|             23                      |        speechiness_%                  |      Amount of spoken words in the song.             |"
   ]
  },
  {
   "cell_type": "markdown",
   "metadata": {},
   "source": [
    "### *2.1.3. User's playlist data*\n",
    "User's playlist should be a subset of all available songs. If all avaialble songs are the dataset in section [2.1.2](#221-music-dataset), then user's playlist is a subset of this dataset. I have used 10% data from [section 2.1.2.](#2.1.2.-music-dataset) as user's playlist in order to understand user's preference on music. \n",
    "\n",
    "* Metadata URL: https://www.kaggle.com/datasets/nelgiriyewithana/top-spotify-songs-2023\n",
    "* Data URL: https://www.kaggle.com/datasets/nelgiriyewithana/top-spotify-songs-2023\n",
    "* Data Type: CSV"
   ]
  },
  {
   "cell_type": "markdown",
   "metadata": {},
   "source": [
    "### 2.2 Data Analysis"
   ]
  },
  {
   "cell_type": "markdown",
   "metadata": {},
   "source": [
    "### *2.2.1 Social Media Post Data (Sentiment140)*\n",
    "\n",
    "The figure 1 shows the first and last five rows of Sentiment140 dataset respectively. \n",
    "\n",
    "<figure>\n",
    "    <img src=\"images/tweets-uncleaned.png\" style=\"width: 100%\"/>\n",
    "    <figcaption align=\"center\"> Figure 1: First and last five rows of Sentiment140. </figcaption>\n",
    "</figure>\n",
    "\n",
    "I am interested in the column *\"target\"* and *\"text\"*. The \"target\" column represents the sentiment of the tweet and the \"text\" column represents the tweet. The tweet itself contains \"@user\", \"links\" as well as some special characters. These has been cleaned during data preprocessing step.\n",
    "\n",
    "The figure 2 shows us the target destribution of Sentiment140. It is evident from the picture that the dataset is equally destributed over two sentiments. Eight million *positive* sentiments and 8 million *negative* sentiments.\n",
    "\n",
    "<figure>\n",
    "<img src=\"images/tweets-target-destribution.png\" style=\"width:80%\">\n",
    "<figcaption align=\"center\"> Figure 2: Target destribution of Sentiment140. </figcaption>\n",
    "</figure>\n",
    "\n",
    "The targets are labeled: 0 as negative sentiments and 4 as positive sentiment. During preprocessing, I have renamed the target \"4\" to \"1\".\n",
    "\n",
    "Let us also have a look at some random tweets and their sentiments to understand the validity of the data. Table 1 displays such examples.\n",
    "\n",
    "<table>\n",
    "    <tr>\n",
    "        <th> Tweet </th><th> Sentiment </th>\n",
    "    </tr>\n",
    "    <tr>\n",
    "        <td> im meeting up with one of my besties tonight! Cant wait!!  - GIRL TALK!! </td> <td> positive </td>\n",
    "    </tr>\n",
    "    <tr>\n",
    "        <td> I LOVE @Health4UandPets u guys r the best!! </td> <td> positive </td>\n",
    "    </tr>\n",
    "    <tr>\n",
    "        <td> @DaRealSunisaKim Thanks for the Twitter add, Sunisa! I got to meet you once at a HIN show here in the DC area and you were a sweetheart. </td> <td> positive </td>\n",
    "    </tr>\n",
    "    <tr>\n",
    "        <td> is upset that he can't update his Facebook by texting it... and might cry as a result  School today also. Blah! </td> <td> negative </td>\n",
    "    </tr>\n",
    "    <tr>\n",
    "        <td> @Kenichan I dived many times for the ball. Managed to save 50%  The rest go out of bounds </td> <td> negative </td>\n",
    "    </tr>\n",
    "    <tr>\n",
    "        <td> my whole body feels itchy and like its on fire </td> <td> negative </td>\n",
    "    </tr>\n",
    "    <caption>Table 1: Random tweets from Sentiment140 dataset.</caption>\n",
    "</table>\n",
    "\n",
    "The tweets of this dataset seems pretty well labeled. After observing the target destribution and the labels, I am satisfied to train a model with this dataset. Further clean-up is performed in data preprocessing step."
   ]
  },
  {
   "cell_type": "markdown",
   "metadata": {},
   "source": [
    "### *2.2.1 Music Dataset*\n",
    "\n",
    "The music dataset is labeled with several attributes by Spotifiy. The *\"valence\"* attribute represents the positivity of the song. I have used this attribute to determine the songs sentiment. The table 2 holds few examples of this particular dataset and figure 3 visualized the feature's destribution of the dataset.\n",
    "\n",
    "<table>\n",
    "    <tr>\n",
    "        <th> track name </th>\n",
    "        <th> artist(s) name </th>\n",
    "        <th> artist count </th>\n",
    "        <th> released year </th>\n",
    "        <th> released month </th>\n",
    "        <th> released day </th>\n",
    "        <th> in spotify playlists </th>\n",
    "        <th> in spotify charts </th>\n",
    "        <th> streams </th>\n",
    "        <th> in apple playlists </th>\n",
    "        <th> in apple charts </th>\n",
    "        <th> in deezer playlists </th>\n",
    "        <th> in deezer charts </th>\n",
    "        <th> in shazam charts </th>\n",
    "        <th> bpm </th>\n",
    "        <th> key </th>\n",
    "        <th> mode </th>\n",
    "        <th> danceability_% </th>\n",
    "        <th> valence_% </th>\n",
    "        <th> energy_% </th>\n",
    "        <th> acousticness_% </th>\n",
    "        <th> instrumentalness_% </th>\n",
    "        <th> liveness_% </th>\n",
    "        <th> speechiness_% </th>\n",
    "    </tr>\n",
    "    <tr>\n",
    "        <td> Seven (feat. Latto) (Explicit Ver.) </td> \n",
    "        <td> Latto, Jung Kook </td> \n",
    "        <td> 2 </td> \n",
    "        <td> 2023 </td> \n",
    "        <td> 7 </td> \n",
    "        <td> 14 </td> \n",
    "        <td> 553 </td> \n",
    "        <td> 147 </td> \n",
    "        <td> 141381703 </td> \n",
    "        <td> 43 </td> \n",
    "        <td> 263 </td> \n",
    "        <td> 45 </td> \n",
    "        <td> 10 </td> \n",
    "        <td> 826 </td> \n",
    "        <td> 125 </td> \n",
    "        <td> B </td> \n",
    "        <td> Major </td> \n",
    "        <td> 80 </td> \n",
    "        <td> 89 </td> \n",
    "        <td> 83 </td> \n",
    "        <td> 31 </td> \n",
    "        <td> 0 </td> \n",
    "        <td> 8 </td> \n",
    "        <td> 4 </td>\n",
    "    </tr>\n",
    "    <tr>\n",
    "        <td> LALA </td> \n",
    "        <td> Myke Towers </td> \n",
    "        <td> 1 </td> \n",
    "        <td> 2023 </td> \n",
    "        <td> 3 </td> \n",
    "        <td> 23 </td> \n",
    "        <td> 1474 </td> \n",
    "        <td> 48 </td> \n",
    "        <td> 133716286 </td> \n",
    "        <td> 48 </td> \n",
    "        <td> 126 </td> \n",
    "        <td> 58 </td> \n",
    "        <td> 14 </td> \n",
    "        <td> 382 </td> \n",
    "        <td> 92 </td> \n",
    "        <td> C# </td> \n",
    "        <td> Major </td> \n",
    "        <td> 71 </td> \n",
    "        <td> 61 </td> \n",
    "        <td> 74 </td> \n",
    "        <td> 7 </td> \n",
    "        <td> 0 </td> \n",
    "        <td> 10 </td> \n",
    "        <td> 4 </td>\n",
    "    </tr>\n",
    "    <tr>\n",
    "        <td> vampire </td> \n",
    "        <td> Olivia Rodrigo </td> \n",
    "        <td> 1 </td> \n",
    "        <td> 2023 </td> \n",
    "        <td> 6 </td> \n",
    "        <td> 30 </td> \n",
    "        <td> 1397 </td> \n",
    "        <td> 113 </td> \n",
    "        <td> 140003974 </td> \n",
    "        <td> 94 </td> \n",
    "        <td> 207 </td> \n",
    "        <td> 91 </td> \n",
    "        <td> 14 </td> \n",
    "        <td> 949 </td> \n",
    "        <td> 138 </td> \n",
    "        <td> F </td> \n",
    "        <td> Major </td> \n",
    "        <td> 51 </td> \n",
    "        <td> 32 </td> \n",
    "        <td> 53 </td> \n",
    "        <td> 17 </td> \n",
    "        <td> 0 </td> \n",
    "        <td> 31 </td> \n",
    "        <td> 6 </td>\n",
    "    </tr>\n",
    "    <caption>Table 2: Few examples of spotify songs dataset.</caption>\n",
    "</table>\n",
    "\n",
    "<figure>\n",
    "<img src=\"images/all-songs-feature-destribution.png\" style=\"width:100%\">\n",
    "<figcaption align=\"center\"> Figure 3: Destribution of song's attribute. </figcaption>\n",
    "</figure>\n"
   ]
  },
  {
   "cell_type": "markdown",
   "metadata": {},
   "source": [
    "### *2.2.3. User's playlist data*\n",
    "\n",
    "The user's playlist has been created from the random 10% of Spotify songs. The playlist contains 82 songs. The figure 4 visualizes the destribution of song's attributes from user's playlist.\n",
    "\n",
    "\n",
    "<figure>\n",
    "<img src=\"images/user-playlist-feature-destribution.png\" style=\"width:100%\">\n",
    "<figcaption align=\"center\"> Figure 4: Destribution of song attribute from user's playlist. </figcaption>\n",
    "</figure>\n"
   ]
  },
  {
   "cell_type": "markdown",
   "metadata": {},
   "source": [
    "## 3. ETL Pipeline"
   ]
  },
  {
   "cell_type": "markdown",
   "metadata": {},
   "source": [
    "## 4. Methodology"
   ]
  },
  {
   "cell_type": "markdown",
   "metadata": {},
   "source": [
    "## 5. Results"
   ]
  },
  {
   "cell_type": "markdown",
   "metadata": {},
   "source": [
    "## 6. Conclusion"
   ]
  },
  {
   "cell_type": "markdown",
   "metadata": {},
   "source": [
    "## References\n",
    "1. Go, A., Bhayani, R. and Huang, L., 2009. Twitter sentiment classification using distant supervision. CS224N Project Report, Stanford, 1(2009), p.12"
   ]
  }
 ],
 "metadata": {
  "kernelspec": {
   "display_name": "venv",
   "language": "python",
   "name": "python3"
  },
  "language_info": {
   "codemirror_mode": {
    "name": "ipython",
    "version": 3
   },
   "file_extension": ".py",
   "mimetype": "text/x-python",
   "name": "python",
   "nbconvert_exporter": "python",
   "pygments_lexer": "ipython3",
   "version": "3.11.4"
  }
 },
 "nbformat": 4,
 "nbformat_minor": 2
}
